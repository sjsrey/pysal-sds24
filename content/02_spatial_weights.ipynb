{
 "cells": [
  {
   "cell_type": "markdown",
   "metadata": {},
   "source": [
    "# Spatial Weights\n"
   ]
  },
  {
   "cell_type": "markdown",
   "metadata": {},
   "source": [
    "Spatial weights are mathematical structures used to represent spatial relationships. Many spatial analytics, such as spatial autocorrelation statistics and regionalization algorithms rely on spatial weights. Generally speaking, a spatial weight $w_{i,j}$ expresses the notion of a geographical relationship between locations $i$ and $j$. These relationships can be based on a number of criteria including contiguity, geospatial distance and general distances.\n",
    "\n",
    "libpysal offers functionality for the construction, manipulation, analysis, and conversion of a wide array of spatial weights.\n",
    "\n",
    "We begin with construction of weights from common spatial data formats.\n"
   ]
  },
  {
   "cell_type": "code",
   "execution_count": null,
   "metadata": {
    "execution": {
     "iopub.execute_input": "2023-10-06T23:13:50.760860Z",
     "iopub.status.busy": "2023-10-06T23:13:50.760742Z",
     "iopub.status.idle": "2023-10-06T23:14:04.083816Z",
     "shell.execute_reply": "2023-10-06T23:14:04.083447Z",
     "shell.execute_reply.started": "2023-10-06T23:13:50.760831Z"
    }
   },
   "outputs": [],
   "source": [
    "import libpysal \n",
    "from libpysal.weights import Queen, Rook, KNN, Kernel, DistanceBand\n",
    "import numpy as np\n",
    "import geopandas\n",
    "import pandas\n",
    "%matplotlib inline\n",
    "import matplotlib.pyplot as plt"
   ]
  },
  {
   "cell_type": "code",
   "execution_count": null,
   "metadata": {
    "execution": {
     "iopub.execute_input": "2023-10-06T23:14:04.085181Z",
     "iopub.status.busy": "2023-10-06T23:14:04.085001Z",
     "iopub.status.idle": "2023-10-06T23:14:04.091925Z",
     "shell.execute_reply": "2023-10-06T23:14:04.091589Z",
     "shell.execute_reply.started": "2023-10-06T23:14:04.085170Z"
    }
   },
   "outputs": [],
   "source": [
    "from splot.libpysal import plot_spatial_weights"
   ]
  },
  {
   "cell_type": "markdown",
   "metadata": {},
   "source": [
    "There are functions to construct weights directly from a file path. "
   ]
  },
  {
   "cell_type": "markdown",
   "metadata": {},
   "source": [
    "## Weight Types"
   ]
  },
  {
   "cell_type": "markdown",
   "metadata": {},
   "source": [
    "### Contiguity\n",
    "\n",
    "#### Queen Weights"
   ]
  },
  {
   "cell_type": "markdown",
   "metadata": {},
   "source": [
    "A commonly-used type of weight is a queen contigutiy weight, which reflects adjacency relationships as a binary indicator variable denoting whether or not a polygon shares an edge or a vertex with another polygon. These weights are symmetric, in that when polygon $A$ neighbors polygon $B$, both $w_{AB} = 1$ and $w_{BA} = 1$.\n",
    "\n",
    "To construct queen weights from a shapefile, we will use geopandas to read the file into a GeoDataFrame, and then use   libpysal to construct the weights:"
   ]
  },
  {
   "cell_type": "code",
   "execution_count": null,
   "metadata": {
    "execution": {
     "iopub.execute_input": "2023-10-06T23:14:14.924401Z",
     "iopub.status.busy": "2023-10-06T23:14:14.923504Z",
     "iopub.status.idle": "2023-10-06T23:14:15.447784Z",
     "shell.execute_reply": "2023-10-06T23:14:15.447272Z",
     "shell.execute_reply.started": "2023-10-06T23:14:14.924375Z"
    },
    "tags": []
   },
   "outputs": [],
   "source": [
    "path = \"data/scag_region.parquet\"\n",
    "df = geopandas.read_parquet(path)\n",
    "df.head()"
   ]
  },
  {
   "cell_type": "code",
   "execution_count": null,
   "metadata": {
    "execution": {
     "iopub.execute_input": "2023-10-06T23:14:16.174310Z",
     "iopub.status.busy": "2023-10-06T23:14:16.173676Z",
     "iopub.status.idle": "2023-10-06T23:14:16.275186Z",
     "shell.execute_reply": "2023-10-06T23:14:16.274834Z",
     "shell.execute_reply.started": "2023-10-06T23:14:16.174278Z"
    },
    "tags": []
   },
   "outputs": [],
   "source": [
    "df = df.to_crs(26911)  #UTM zone 11N"
   ]
  },
  {
   "cell_type": "code",
   "execution_count": null,
   "metadata": {
    "execution": {
     "iopub.execute_input": "2023-10-06T23:14:16.341191Z",
     "iopub.status.busy": "2023-10-06T23:14:16.340996Z",
     "iopub.status.idle": "2023-10-06T23:14:16.761745Z",
     "shell.execute_reply": "2023-10-06T23:14:16.761337Z",
     "shell.execute_reply.started": "2023-10-06T23:14:16.341175Z"
    },
    "tags": []
   },
   "outputs": [],
   "source": [
    "qW = Queen.from_dataframe(df)"
   ]
  },
  {
   "cell_type": "code",
   "execution_count": null,
   "metadata": {
    "execution": {
     "iopub.execute_input": "2023-10-06T23:14:16.762765Z",
     "iopub.status.busy": "2023-10-06T23:14:16.762652Z",
     "iopub.status.idle": "2023-10-06T23:14:16.765553Z",
     "shell.execute_reply": "2023-10-06T23:14:16.765127Z",
     "shell.execute_reply.started": "2023-10-06T23:14:16.762757Z"
    },
    "tags": []
   },
   "outputs": [],
   "source": [
    "qW"
   ]
  },
  {
   "cell_type": "markdown",
   "metadata": {},
   "source": [
    "All weights objects have a few traits that you can use to work with the weights object, as well as to get information about the weights object. \n",
    "\n",
    "To get the neighbors & weights around an observation, use the observation's index on the weights object, like a dictionary:"
   ]
  },
  {
   "cell_type": "code",
   "execution_count": null,
   "metadata": {
    "execution": {
     "iopub.execute_input": "2023-10-06T23:14:16.836790Z",
     "iopub.status.busy": "2023-10-06T23:14:16.836565Z",
     "iopub.status.idle": "2023-10-06T23:14:16.840519Z",
     "shell.execute_reply": "2023-10-06T23:14:16.839860Z",
     "shell.execute_reply.started": "2023-10-06T23:14:16.836773Z"
    },
    "tags": []
   },
   "outputs": [],
   "source": [
    "qW[155] #neighbors & weights of the 156th observation (0-index remember)"
   ]
  },
  {
   "cell_type": "markdown",
   "metadata": {},
   "source": [
    "By default, the weights and the pandas dataframe will use the same index. So, we can view the observation and its neighbors in the dataframe by putting the observation's index and its neighbors' indexes together in one list:"
   ]
  },
  {
   "cell_type": "code",
   "execution_count": null,
   "metadata": {
    "execution": {
     "iopub.execute_input": "2023-10-06T23:14:17.177544Z",
     "iopub.status.busy": "2023-10-06T23:14:17.177112Z",
     "iopub.status.idle": "2023-10-06T23:14:17.185613Z",
     "shell.execute_reply": "2023-10-06T23:14:17.184772Z",
     "shell.execute_reply.started": "2023-10-06T23:14:17.177515Z"
    },
    "tags": []
   },
   "outputs": [],
   "source": [
    "self_and_neighbors = [155]\n",
    "self_and_neighbors.extend(qW.neighbors[155])\n",
    "print(self_and_neighbors)"
   ]
  },
  {
   "cell_type": "markdown",
   "metadata": {},
   "source": [
    "and grabbing those elements from the dataframe:"
   ]
  },
  {
   "cell_type": "code",
   "execution_count": null,
   "metadata": {
    "execution": {
     "iopub.execute_input": "2023-10-06T23:14:17.497440Z",
     "iopub.status.busy": "2023-10-06T23:14:17.496794Z",
     "iopub.status.idle": "2023-10-06T23:14:17.527275Z",
     "shell.execute_reply": "2023-10-06T23:14:17.526032Z",
     "shell.execute_reply.started": "2023-10-06T23:14:17.497408Z"
    },
    "tags": []
   },
   "outputs": [],
   "source": [
    "df.loc[self_and_neighbors]"
   ]
  },
  {
   "cell_type": "markdown",
   "metadata": {},
   "source": [
    "A full, dense matrix describing all of the pairwise relationships is constructed using the `.full` method, or when `libpysal.weights.full` is called on a weights object:"
   ]
  },
  {
   "cell_type": "code",
   "execution_count": null,
   "metadata": {
    "execution": {
     "iopub.execute_input": "2023-10-06T23:14:17.826049Z",
     "iopub.status.busy": "2023-10-06T23:14:17.825515Z",
     "iopub.status.idle": "2023-10-06T23:14:17.888141Z",
     "shell.execute_reply": "2023-10-06T23:14:17.887718Z",
     "shell.execute_reply.started": "2023-10-06T23:14:17.826017Z"
    },
    "tags": []
   },
   "outputs": [],
   "source": [
    "Wmatrix, ids = qW.full()\n",
    "#Wmatrix, ids = libpysal.weights.full(qW)"
   ]
  },
  {
   "cell_type": "code",
   "execution_count": null,
   "metadata": {
    "execution": {
     "iopub.execute_input": "2023-10-06T23:14:17.993262Z",
     "iopub.status.busy": "2023-10-06T23:14:17.992351Z",
     "iopub.status.idle": "2023-10-06T23:14:18.013516Z",
     "shell.execute_reply": "2023-10-06T23:14:18.012060Z",
     "shell.execute_reply.started": "2023-10-06T23:14:17.993226Z"
    },
    "tags": []
   },
   "outputs": [],
   "source": [
    "Wmatrix"
   ]
  },
  {
   "cell_type": "code",
   "execution_count": null,
   "metadata": {
    "execution": {
     "iopub.execute_input": "2023-10-06T23:14:18.151508Z",
     "iopub.status.busy": "2023-10-06T23:14:18.150996Z",
     "iopub.status.idle": "2023-10-06T23:14:18.184527Z",
     "shell.execute_reply": "2023-10-06T23:14:18.183906Z",
     "shell.execute_reply.started": "2023-10-06T23:14:18.151481Z"
    },
    "tags": []
   },
   "outputs": [],
   "source": [
    "n_neighbors = Wmatrix.sum(axis=1) # how many neighbors each region has"
   ]
  },
  {
   "cell_type": "code",
   "execution_count": null,
   "metadata": {
    "execution": {
     "iopub.execute_input": "2023-10-06T23:14:18.332913Z",
     "iopub.status.busy": "2023-10-06T23:14:18.332430Z",
     "iopub.status.idle": "2023-10-06T23:14:18.354130Z",
     "shell.execute_reply": "2023-10-06T23:14:18.345134Z",
     "shell.execute_reply.started": "2023-10-06T23:14:18.332885Z"
    },
    "tags": []
   },
   "outputs": [],
   "source": [
    "n_neighbors[155]"
   ]
  },
  {
   "cell_type": "code",
   "execution_count": null,
   "metadata": {
    "execution": {
     "iopub.execute_input": "2023-10-06T23:14:18.478171Z",
     "iopub.status.busy": "2023-10-06T23:14:18.477717Z",
     "iopub.status.idle": "2023-10-06T23:14:18.491851Z",
     "shell.execute_reply": "2023-10-06T23:14:18.490885Z",
     "shell.execute_reply.started": "2023-10-06T23:14:18.478145Z"
    },
    "tags": []
   },
   "outputs": [],
   "source": [
    "qW.cardinalities[155]"
   ]
  },
  {
   "cell_type": "markdown",
   "metadata": {},
   "source": [
    "Note that this matrix is binary, in that its elements are either zero or one, since an observation is either a neighbor or it is not a neighbor. \n",
    "\n",
    "However, many common use cases of spatial weights require that the matrix is row-standardized. This is done simply in PySAL using the `.transform` attribute"
   ]
  },
  {
   "cell_type": "code",
   "execution_count": null,
   "metadata": {
    "execution": {
     "iopub.execute_input": "2023-10-06T23:14:18.798037Z",
     "iopub.status.busy": "2023-10-06T23:14:18.797536Z",
     "iopub.status.idle": "2023-10-06T23:14:18.838390Z",
     "shell.execute_reply": "2023-10-06T23:14:18.837256Z",
     "shell.execute_reply.started": "2023-10-06T23:14:18.798007Z"
    },
    "tags": []
   },
   "outputs": [],
   "source": [
    "qW.transform = 'r'"
   ]
  },
  {
   "cell_type": "markdown",
   "metadata": {},
   "source": [
    "Now, if we build a new full matrix, its rows should sum to one:"
   ]
  },
  {
   "cell_type": "code",
   "execution_count": null,
   "metadata": {
    "execution": {
     "iopub.execute_input": "2023-10-06T23:14:19.115786Z",
     "iopub.status.busy": "2023-10-06T23:14:19.115345Z",
     "iopub.status.idle": "2023-10-06T23:14:19.197366Z",
     "shell.execute_reply": "2023-10-06T23:14:19.194749Z",
     "shell.execute_reply.started": "2023-10-06T23:14:19.115759Z"
    },
    "tags": []
   },
   "outputs": [],
   "source": [
    "Wmatrix, ids = qW.full()"
   ]
  },
  {
   "cell_type": "code",
   "execution_count": null,
   "metadata": {
    "execution": {
     "iopub.execute_input": "2023-10-06T23:14:19.271348Z",
     "iopub.status.busy": "2023-10-06T23:14:19.270939Z",
     "iopub.status.idle": "2023-10-06T23:14:19.299925Z",
     "shell.execute_reply": "2023-10-06T23:14:19.299444Z",
     "shell.execute_reply.started": "2023-10-06T23:14:19.271322Z"
    },
    "tags": []
   },
   "outputs": [],
   "source": [
    "Wmatrix.sum(axis=1) #numpy axes are 0:column, 1:row, 2:facet, into higher dimensions"
   ]
  },
  {
   "cell_type": "markdown",
   "metadata": {},
   "source": [
    "Since weight matrices are typically very sparse, there is also a sparse weights matrix constructor:"
   ]
  },
  {
   "cell_type": "code",
   "execution_count": null,
   "metadata": {
    "execution": {
     "iopub.execute_input": "2023-10-06T23:14:19.618409Z",
     "iopub.status.busy": "2023-10-06T23:14:19.616613Z",
     "iopub.status.idle": "2023-10-06T23:14:19.647789Z",
     "shell.execute_reply": "2023-10-06T23:14:19.646889Z",
     "shell.execute_reply.started": "2023-10-06T23:14:19.618366Z"
    },
    "tags": []
   },
   "outputs": [],
   "source": [
    "qW.sparse"
   ]
  },
  {
   "cell_type": "code",
   "execution_count": null,
   "metadata": {
    "execution": {
     "iopub.execute_input": "2023-10-06T23:14:19.779023Z",
     "iopub.status.busy": "2023-10-06T23:14:19.778589Z",
     "iopub.status.idle": "2023-10-06T23:14:19.816305Z",
     "shell.execute_reply": "2023-10-06T23:14:19.815016Z",
     "shell.execute_reply.started": "2023-10-06T23:14:19.778998Z"
    },
    "tags": []
   },
   "outputs": [],
   "source": [
    "qW.pct_nonzero #Percentage of nonzero neighbor counts"
   ]
  },
  {
   "cell_type": "markdown",
   "metadata": {},
   "source": [
    "Let's look at the neighborhoods of the 101th observation"
   ]
  },
  {
   "cell_type": "code",
   "execution_count": null,
   "metadata": {
    "execution": {
     "iopub.execute_input": "2023-10-06T23:14:20.099366Z",
     "iopub.status.busy": "2023-10-06T23:14:20.098866Z",
     "iopub.status.idle": "2023-10-06T23:14:20.121624Z",
     "shell.execute_reply": "2023-10-06T23:14:20.120928Z",
     "shell.execute_reply.started": "2023-10-06T23:14:20.099341Z"
    },
    "tags": []
   },
   "outputs": [],
   "source": [
    "df.iloc[100]"
   ]
  },
  {
   "cell_type": "code",
   "execution_count": null,
   "metadata": {
    "execution": {
     "iopub.execute_input": "2023-10-06T23:14:20.230068Z",
     "iopub.status.busy": "2023-10-06T23:14:20.229082Z",
     "iopub.status.idle": "2023-10-06T23:14:20.239992Z",
     "shell.execute_reply": "2023-10-06T23:14:20.237702Z",
     "shell.execute_reply.started": "2023-10-06T23:14:20.230031Z"
    },
    "tags": []
   },
   "outputs": [],
   "source": [
    "qW.neighbors[100]"
   ]
  },
  {
   "cell_type": "code",
   "execution_count": null,
   "metadata": {
    "execution": {
     "iopub.execute_input": "2023-10-06T23:14:20.394884Z",
     "iopub.status.busy": "2023-10-06T23:14:20.392765Z",
     "iopub.status.idle": "2023-10-06T23:14:20.408084Z",
     "shell.execute_reply": "2023-10-06T23:14:20.407283Z",
     "shell.execute_reply.started": "2023-10-06T23:14:20.394769Z"
    },
    "tags": []
   },
   "outputs": [],
   "source": [
    "len(qW.neighbors[100])"
   ]
  },
  {
   "cell_type": "code",
   "execution_count": null,
   "metadata": {
    "execution": {
     "iopub.execute_input": "2023-10-06T23:14:20.552119Z",
     "iopub.status.busy": "2023-10-06T23:14:20.551551Z",
     "iopub.status.idle": "2023-10-06T23:14:20.594635Z",
     "shell.execute_reply": "2023-10-06T23:14:20.594248Z",
     "shell.execute_reply.started": "2023-10-06T23:14:20.552055Z"
    },
    "tags": []
   },
   "outputs": [],
   "source": [
    "df.iloc[qW.neighbors[100]]"
   ]
  },
  {
   "cell_type": "code",
   "execution_count": null,
   "metadata": {
    "execution": {
     "iopub.execute_input": "2023-10-06T23:14:20.709864Z",
     "iopub.status.busy": "2023-10-06T23:14:20.708168Z",
     "iopub.status.idle": "2023-10-06T23:14:22.224509Z",
     "shell.execute_reply": "2023-10-06T23:14:22.224214Z",
     "shell.execute_reply.started": "2023-10-06T23:14:20.709810Z"
    },
    "tags": []
   },
   "outputs": [],
   "source": [
    "plot_spatial_weights(qW, df)"
   ]
  },
  {
   "cell_type": "markdown",
   "metadata": {},
   "source": [
    "By default, PySAL assigns each observation an index according to the order in which the observation was read in. This means that, by default, all of the observations in the weights object are indexed by table order."
   ]
  },
  {
   "cell_type": "code",
   "execution_count": null,
   "metadata": {
    "execution": {
     "iopub.execute_input": "2023-10-06T23:14:22.225598Z",
     "iopub.status.busy": "2023-10-06T23:14:22.225361Z",
     "iopub.status.idle": "2023-10-06T23:14:22.306285Z",
     "shell.execute_reply": "2023-10-06T23:14:22.305841Z",
     "shell.execute_reply.started": "2023-10-06T23:14:22.225585Z"
    },
    "tags": []
   },
   "outputs": [],
   "source": [
    "pandas.Series(qW.cardinalities).plot.hist(bins=9)"
   ]
  },
  {
   "cell_type": "code",
   "execution_count": null,
   "metadata": {
    "execution": {
     "iopub.execute_input": "2023-10-06T23:14:22.307499Z",
     "iopub.status.busy": "2023-10-06T23:14:22.307230Z",
     "iopub.status.idle": "2023-10-06T23:14:22.310789Z",
     "shell.execute_reply": "2023-10-06T23:14:22.310332Z",
     "shell.execute_reply.started": "2023-10-06T23:14:22.307482Z"
    },
    "tags": []
   },
   "outputs": [],
   "source": [
    "qW.cardinalities.values()"
   ]
  },
  {
   "cell_type": "markdown",
   "metadata": {},
   "source": [
    "#### Rook Weights"
   ]
  },
  {
   "cell_type": "markdown",
   "metadata": {},
   "source": [
    "Rook weights are another type of contiguity weight, but consider observations as neighboring only when they share an edge. The rook neighbors of an observation may be different than its queen neighbors, depending on how the observation and its nearby polygons are configured. \n",
    "\n",
    "We can construct this in the same way as the queen weights:"
   ]
  },
  {
   "cell_type": "code",
   "execution_count": null,
   "metadata": {
    "execution": {
     "iopub.execute_input": "2023-10-06T23:14:22.312064Z",
     "iopub.status.busy": "2023-10-06T23:14:22.311831Z",
     "iopub.status.idle": "2023-10-06T23:14:22.782177Z",
     "shell.execute_reply": "2023-10-06T23:14:22.781771Z",
     "shell.execute_reply.started": "2023-10-06T23:14:22.312052Z"
    },
    "tags": []
   },
   "outputs": [],
   "source": [
    "rW = Rook.from_dataframe(df)"
   ]
  },
  {
   "cell_type": "code",
   "execution_count": null,
   "metadata": {
    "execution": {
     "iopub.execute_input": "2023-10-06T23:14:22.782918Z",
     "iopub.status.busy": "2023-10-06T23:14:22.782736Z",
     "iopub.status.idle": "2023-10-06T23:14:22.785853Z",
     "shell.execute_reply": "2023-10-06T23:14:22.785500Z",
     "shell.execute_reply.started": "2023-10-06T23:14:22.782906Z"
    },
    "tags": []
   },
   "outputs": [],
   "source": [
    "rW.neighbors[100]"
   ]
  },
  {
   "cell_type": "code",
   "execution_count": null,
   "metadata": {
    "execution": {
     "iopub.execute_input": "2023-10-06T23:14:22.786553Z",
     "iopub.status.busy": "2023-10-06T23:14:22.786422Z",
     "iopub.status.idle": "2023-10-06T23:14:22.790116Z",
     "shell.execute_reply": "2023-10-06T23:14:22.789060Z",
     "shell.execute_reply.started": "2023-10-06T23:14:22.786542Z"
    },
    "tags": []
   },
   "outputs": [],
   "source": [
    "len(rW.neighbors[100])"
   ]
  },
  {
   "cell_type": "code",
   "execution_count": null,
   "metadata": {
    "execution": {
     "iopub.execute_input": "2023-10-06T23:14:22.791065Z",
     "iopub.status.busy": "2023-10-06T23:14:22.790891Z",
     "iopub.status.idle": "2023-10-06T23:14:22.807321Z",
     "shell.execute_reply": "2023-10-06T23:14:22.806562Z",
     "shell.execute_reply.started": "2023-10-06T23:14:22.791051Z"
    },
    "tags": []
   },
   "outputs": [],
   "source": [
    "df.iloc[rW.neighbors[100]]"
   ]
  },
  {
   "cell_type": "code",
   "execution_count": null,
   "metadata": {
    "execution": {
     "iopub.execute_input": "2023-10-06T23:14:22.807928Z",
     "iopub.status.busy": "2023-10-06T23:14:22.807822Z",
     "iopub.status.idle": "2023-10-06T23:14:24.187175Z",
     "shell.execute_reply": "2023-10-06T23:14:24.186870Z",
     "shell.execute_reply.started": "2023-10-06T23:14:22.807919Z"
    },
    "tags": []
   },
   "outputs": [],
   "source": [
    "plot_spatial_weights(rW, df)"
   ]
  },
  {
   "cell_type": "code",
   "execution_count": null,
   "metadata": {
    "execution": {
     "iopub.execute_input": "2023-10-06T23:14:24.189449Z",
     "iopub.status.busy": "2023-10-06T23:14:24.189335Z",
     "iopub.status.idle": "2023-10-06T23:14:24.263192Z",
     "shell.execute_reply": "2023-10-06T23:14:24.262783Z",
     "shell.execute_reply.started": "2023-10-06T23:14:24.189440Z"
    },
    "tags": []
   },
   "outputs": [],
   "source": [
    "pandas.Series(rW.cardinalities).plot.hist(bins=9)"
   ]
  },
  {
   "cell_type": "markdown",
   "metadata": {},
   "source": [
    "#### Bishop Weights"
   ]
  },
  {
   "cell_type": "markdown",
   "metadata": {},
   "source": [
    "In theory, a \"Bishop\" weighting scheme is one that arises when only polygons that share vertexes are considered to be neighboring. But, since Queen contiguigy requires either an edge or a vertex and Rook contiguity requires only shared edges, the following relationship is true:\n",
    "\n",
    "$$ \\mathcal{Q} = \\mathcal{R} \\cup \\mathcal{B} $$\n",
    "\n",
    "where $\\mathcal{Q}$ is the set of neighbor pairs *via* queen contiguity, $\\mathcal{R}$ is the set of neighbor pairs *via* Rook contiguity, and $\\mathcal{B}$ *via* Bishop contiguity. Thus:\n",
    "\n",
    "$$ \\mathcal{Q} \\setminus \\mathcal{R} = \\mathcal{B}$$\n",
    "\n",
    "Bishop weights entail all Queen neighbor pairs that are not also Rook neighbors.\n",
    "\n",
    "PySAL does not have a dedicated bishop weights constructor, but you can construct very easily using the `w_difference` function. This function is one of a family of tools to work with weights, all defined in `libpysal.weights`, that conduct these types of set operations between weight objects."
   ]
  },
  {
   "cell_type": "code",
   "execution_count": null,
   "metadata": {
    "execution": {
     "iopub.execute_input": "2023-10-06T23:14:24.263979Z",
     "iopub.status.busy": "2023-10-06T23:14:24.263870Z",
     "iopub.status.idle": "2023-10-06T23:14:24.281855Z",
     "shell.execute_reply": "2023-10-06T23:14:24.281089Z",
     "shell.execute_reply.started": "2023-10-06T23:14:24.263970Z"
    },
    "tags": []
   },
   "outputs": [],
   "source": [
    "bW = libpysal.weights.w_difference(qW, rW, constrained=False)"
   ]
  },
  {
   "cell_type": "code",
   "execution_count": null,
   "metadata": {
    "execution": {
     "iopub.execute_input": "2023-10-06T23:14:24.282510Z",
     "iopub.status.busy": "2023-10-06T23:14:24.282401Z",
     "iopub.status.idle": "2023-10-06T23:14:24.360639Z",
     "shell.execute_reply": "2023-10-06T23:14:24.359942Z",
     "shell.execute_reply.started": "2023-10-06T23:14:24.282499Z"
    },
    "tags": []
   },
   "outputs": [],
   "source": [
    "bW = libpysal.weights.w_difference(qW, rW, constrained=False)"
   ]
  },
  {
   "cell_type": "code",
   "execution_count": null,
   "metadata": {},
   "outputs": [],
   "source": []
  },
  {
   "cell_type": "code",
   "execution_count": null,
   "metadata": {
    "execution": {
     "iopub.execute_input": "2023-10-06T23:14:24.361411Z",
     "iopub.status.busy": "2023-10-06T23:14:24.361299Z",
     "iopub.status.idle": "2023-10-06T23:14:24.366932Z",
     "shell.execute_reply": "2023-10-06T23:14:24.366398Z",
     "shell.execute_reply.started": "2023-10-06T23:14:24.361402Z"
    },
    "tags": []
   },
   "outputs": [],
   "source": [
    "bW.histogram"
   ]
  },
  {
   "cell_type": "markdown",
   "metadata": {},
   "source": [
    "Thus, many tracts have no bishop neighbors. But, a few do. A simple way to see these observations in the dataframe is to find all elements of the dataframe that are not \"islands,\" the term for an observation with no neighbors:"
   ]
  },
  {
   "cell_type": "code",
   "execution_count": null,
   "metadata": {
    "execution": {
     "iopub.execute_input": "2023-10-06T23:14:24.367935Z",
     "iopub.status.busy": "2023-10-06T23:14:24.367824Z",
     "iopub.status.idle": "2023-10-06T23:14:25.284235Z",
     "shell.execute_reply": "2023-10-06T23:14:25.283614Z",
     "shell.execute_reply.started": "2023-10-06T23:14:24.367925Z"
    },
    "tags": []
   },
   "outputs": [],
   "source": [
    "plot_spatial_weights(bW, df)"
   ]
  },
  {
   "cell_type": "markdown",
   "metadata": {},
   "source": [
    "## Distance"
   ]
  },
  {
   "cell_type": "markdown",
   "metadata": {},
   "source": [
    "There are many other kinds of weighting functions in PySAL. Another separate type use a continuous measure of distance to define neighborhoods. "
   ]
  },
  {
   "cell_type": "code",
   "execution_count": null,
   "metadata": {
    "execution": {
     "iopub.execute_input": "2023-10-06T23:14:25.285958Z",
     "iopub.status.busy": "2023-10-06T23:14:25.285821Z",
     "iopub.status.idle": "2023-10-06T23:14:25.291214Z",
     "shell.execute_reply": "2023-10-06T23:14:25.290868Z",
     "shell.execute_reply.started": "2023-10-06T23:14:25.285946Z"
    },
    "tags": []
   },
   "outputs": [],
   "source": [
    "df.crs"
   ]
  },
  {
   "cell_type": "markdown",
   "metadata": {},
   "source": [
    "Our coordinate system (UTM 11N) measures distance in meters, so that's how we'll define our neighbors"
   ]
  },
  {
   "cell_type": "code",
   "execution_count": null,
   "metadata": {
    "execution": {
     "iopub.execute_input": "2023-10-06T23:14:25.291811Z",
     "iopub.status.busy": "2023-10-06T23:14:25.291652Z",
     "iopub.status.idle": "2023-10-06T23:14:25.513140Z",
     "shell.execute_reply": "2023-10-06T23:14:25.512847Z",
     "shell.execute_reply.started": "2023-10-06T23:14:25.291767Z"
    },
    "tags": []
   },
   "outputs": [],
   "source": [
    "dist_band = DistanceBand.from_dataframe(df, threshold=2000)"
   ]
  },
  {
   "cell_type": "code",
   "execution_count": null,
   "metadata": {
    "execution": {
     "iopub.execute_input": "2023-10-06T23:14:25.513771Z",
     "iopub.status.busy": "2023-10-06T23:14:25.513672Z",
     "iopub.status.idle": "2023-10-06T23:14:27.128799Z",
     "shell.execute_reply": "2023-10-06T23:14:27.128457Z",
     "shell.execute_reply.started": "2023-10-06T23:14:25.513762Z"
    },
    "tags": []
   },
   "outputs": [],
   "source": [
    "plot_spatial_weights(dist_band,df)"
   ]
  },
  {
   "cell_type": "code",
   "execution_count": null,
   "metadata": {},
   "outputs": [],
   "source": []
  },
  {
   "cell_type": "markdown",
   "metadata": {},
   "source": [
    "### knn defined weights"
   ]
  },
  {
   "cell_type": "code",
   "execution_count": null,
   "metadata": {
    "execution": {
     "iopub.execute_input": "2023-10-06T23:14:27.129991Z",
     "iopub.status.busy": "2023-10-06T23:14:27.129894Z",
     "iopub.status.idle": "2023-10-06T23:14:27.133359Z",
     "shell.execute_reply": "2023-10-06T23:14:27.132781Z",
     "shell.execute_reply.started": "2023-10-06T23:14:27.129982Z"
    },
    "tags": []
   },
   "outputs": [],
   "source": [
    "radius_mile = libpysal.cg.sphere.RADIUS_EARTH_MILES\n",
    "radius_mile"
   ]
  },
  {
   "cell_type": "code",
   "execution_count": null,
   "metadata": {
    "execution": {
     "iopub.execute_input": "2023-10-06T23:14:27.134009Z",
     "iopub.status.busy": "2023-10-06T23:14:27.133876Z",
     "iopub.status.idle": "2023-10-06T23:14:27.195160Z",
     "shell.execute_reply": "2023-10-06T23:14:27.194804Z",
     "shell.execute_reply.started": "2023-10-06T23:14:27.133989Z"
    },
    "tags": []
   },
   "outputs": [],
   "source": [
    "df_latlong = df.to_crs(4326)"
   ]
  },
  {
   "cell_type": "code",
   "execution_count": null,
   "metadata": {
    "execution": {
     "iopub.execute_input": "2023-10-06T23:14:27.195794Z",
     "iopub.status.busy": "2023-10-06T23:14:27.195696Z",
     "iopub.status.idle": "2023-10-06T23:14:27.326972Z",
     "shell.execute_reply": "2023-10-06T23:14:27.326448Z",
     "shell.execute_reply.started": "2023-10-06T23:14:27.195785Z"
    },
    "tags": []
   },
   "outputs": [],
   "source": [
    "knn8_bad = KNN.from_dataframe(df_latlong, k=8) # ignore curvature of the earth"
   ]
  },
  {
   "cell_type": "code",
   "execution_count": null,
   "metadata": {
    "execution": {
     "iopub.execute_input": "2023-10-06T23:14:27.327532Z",
     "iopub.status.busy": "2023-10-06T23:14:27.327449Z",
     "iopub.status.idle": "2023-10-06T23:14:27.332142Z",
     "shell.execute_reply": "2023-10-06T23:14:27.331519Z",
     "shell.execute_reply.started": "2023-10-06T23:14:27.327523Z"
    },
    "tags": []
   },
   "outputs": [],
   "source": [
    "knn8_bad.histogram"
   ]
  },
  {
   "cell_type": "code",
   "execution_count": null,
   "metadata": {
    "execution": {
     "iopub.execute_input": "2023-10-06T23:14:27.333619Z",
     "iopub.status.busy": "2023-10-06T23:14:27.333344Z",
     "iopub.status.idle": "2023-10-06T23:14:27.500369Z",
     "shell.execute_reply": "2023-10-06T23:14:27.500049Z",
     "shell.execute_reply.started": "2023-10-06T23:14:27.333599Z"
    },
    "tags": []
   },
   "outputs": [],
   "source": [
    "knn8 = KNN.from_dataframe(df_latlong, k=8, radius=radius_mile)"
   ]
  },
  {
   "cell_type": "code",
   "execution_count": null,
   "metadata": {
    "execution": {
     "iopub.execute_input": "2023-10-06T23:14:27.501538Z",
     "iopub.status.busy": "2023-10-06T23:14:27.501036Z",
     "iopub.status.idle": "2023-10-06T23:14:27.507921Z",
     "shell.execute_reply": "2023-10-06T23:14:27.507135Z",
     "shell.execute_reply.started": "2023-10-06T23:14:27.501522Z"
    },
    "tags": []
   },
   "outputs": [],
   "source": [
    "knn8.histogram"
   ]
  },
  {
   "cell_type": "code",
   "execution_count": null,
   "metadata": {
    "execution": {
     "iopub.execute_input": "2023-10-06T23:14:27.508623Z",
     "iopub.status.busy": "2023-10-06T23:14:27.508504Z",
     "iopub.status.idle": "2023-10-06T23:14:27.512823Z",
     "shell.execute_reply": "2023-10-06T23:14:27.512393Z",
     "shell.execute_reply.started": "2023-10-06T23:14:27.508612Z"
    },
    "tags": []
   },
   "outputs": [],
   "source": [
    "knn8_bad.neighbors[1487]"
   ]
  },
  {
   "cell_type": "code",
   "execution_count": null,
   "metadata": {
    "execution": {
     "iopub.execute_input": "2023-10-06T23:14:27.514911Z",
     "iopub.status.busy": "2023-10-06T23:14:27.514761Z",
     "iopub.status.idle": "2023-10-06T23:14:27.519576Z",
     "shell.execute_reply": "2023-10-06T23:14:27.518611Z",
     "shell.execute_reply.started": "2023-10-06T23:14:27.514901Z"
    },
    "tags": []
   },
   "outputs": [],
   "source": [
    "knn8.neighbors[1487]"
   ]
  },
  {
   "cell_type": "code",
   "execution_count": null,
   "metadata": {
    "execution": {
     "iopub.execute_input": "2023-10-06T23:14:27.520325Z",
     "iopub.status.busy": "2023-10-06T23:14:27.520215Z",
     "iopub.status.idle": "2023-10-06T23:14:27.525095Z",
     "shell.execute_reply": "2023-10-06T23:14:27.524572Z",
     "shell.execute_reply.started": "2023-10-06T23:14:27.520315Z"
    },
    "tags": []
   },
   "outputs": [],
   "source": [
    "set(knn8_bad.neighbors[1487]) == set(knn8.neighbors[1487])"
   ]
  },
  {
   "cell_type": "markdown",
   "metadata": {},
   "source": [
    "<div class=\"alert alert-success\" style=\"font-size:120%\">\n",
    "<b>Exercise</b>: <br>\n",
    "Enumerate the tracts for which ignoring curvature results in an incorrect neighbor set for knn.\n",
    "</div>"
   ]
  },
  {
   "cell_type": "code",
   "execution_count": null,
   "metadata": {
    "execution": {
     "iopub.execute_input": "2023-10-06T23:14:27.527214Z",
     "iopub.status.busy": "2023-10-06T23:14:27.526775Z",
     "iopub.status.idle": "2023-10-06T23:14:27.531790Z",
     "shell.execute_reply": "2023-10-06T23:14:27.531383Z",
     "shell.execute_reply.started": "2023-10-06T23:14:27.527198Z"
    },
    "tags": []
   },
   "outputs": [],
   "source": [
    "# %load solutions/02_knn.py\n"
   ]
  },
  {
   "cell_type": "markdown",
   "metadata": {},
   "source": [
    "### Kernel W"
   ]
  },
  {
   "cell_type": "markdown",
   "metadata": {},
   "source": [
    "Kernel Weights are continuous distance-based weights that use kernel densities to define the neighbor relationship.\n",
    "Typically, they estimate a `bandwidth`, which is a parameter governing how far out observations should be considered neighboring. Then, using this bandwidth, they evaluate a continuous kernel function to provide a weight between 0 and 1.\n",
    "\n",
    "Many different choices of kernel functions are supported, and bandwidths can either be fixed (constant over all units) or adaptive in function of unit density.\n",
    "\n",
    "For example, if we want to use **adaptive bandwidths for the map and weight according to a gaussian kernel**:"
   ]
  },
  {
   "cell_type": "markdown",
   "metadata": {},
   "source": [
    "#### Adaptive gaussian kernel weights\n",
    "\n",
    "bandwidth = the distance to the kth nearest neighbor for each\n",
    "                  observation\n",
    "   \n",
    "bandwith is changing across observations"
   ]
  },
  {
   "cell_type": "code",
   "execution_count": null,
   "metadata": {
    "execution": {
     "iopub.execute_input": "2023-10-06T23:14:27.997129Z",
     "iopub.status.busy": "2023-10-06T23:14:27.996609Z",
     "iopub.status.idle": "2023-10-06T23:14:28.333739Z",
     "shell.execute_reply": "2023-10-06T23:14:28.333365Z",
     "shell.execute_reply.started": "2023-10-06T23:14:27.997099Z"
    },
    "tags": []
   },
   "outputs": [],
   "source": [
    "kernelWa = Kernel.from_dataframe(df, k=10, fixed=False, function='gaussian')\n"
   ]
  },
  {
   "cell_type": "code",
   "execution_count": null,
   "metadata": {
    "execution": {
     "iopub.execute_input": "2023-10-06T23:14:28.334592Z",
     "iopub.status.busy": "2023-10-06T23:14:28.334500Z",
     "iopub.status.idle": "2023-10-06T23:14:30.328730Z",
     "shell.execute_reply": "2023-10-06T23:14:30.328386Z",
     "shell.execute_reply.started": "2023-10-06T23:14:28.334584Z"
    },
    "tags": []
   },
   "outputs": [],
   "source": [
    "plot_spatial_weights(kernelWa, df)"
   ]
  },
  {
   "cell_type": "code",
   "execution_count": null,
   "metadata": {
    "execution": {
     "iopub.execute_input": "2023-10-06T23:14:30.329515Z",
     "iopub.status.busy": "2023-10-06T23:14:30.329430Z",
     "iopub.status.idle": "2023-10-06T23:14:30.333917Z",
     "shell.execute_reply": "2023-10-06T23:14:30.333624Z",
     "shell.execute_reply.started": "2023-10-06T23:14:30.329506Z"
    },
    "tags": []
   },
   "outputs": [],
   "source": [
    "kernelWa.bandwidth"
   ]
  },
  {
   "cell_type": "code",
   "execution_count": null,
   "metadata": {
    "execution": {
     "iopub.execute_input": "2023-10-06T23:14:30.334396Z",
     "iopub.status.busy": "2023-10-06T23:14:30.334310Z",
     "iopub.status.idle": "2023-10-06T23:14:30.734852Z",
     "shell.execute_reply": "2023-10-06T23:14:30.734519Z",
     "shell.execute_reply.started": "2023-10-06T23:14:30.334388Z"
    },
    "tags": []
   },
   "outputs": [],
   "source": [
    "df.assign(bw=kernelWa.bandwidth.flatten()).plot('bw', cmap='Reds')"
   ]
  },
  {
   "cell_type": "markdown",
   "metadata": {},
   "source": [
    "<div class=\"alert alert-success\" style=\"font-size:120%\">\n",
    "<b>Exercise</b>: <br>\n",
    "    Which spatial weights structure would be more dense, tracts based on rook contiguity or SoCal tracts based on knn with k=4?\n",
    "</div>"
   ]
  },
  {
   "cell_type": "markdown",
   "metadata": {},
   "source": [
    "<div class=\"alert alert-success\" style=\"font-size:120%\">\n",
    "<b>Exercise</b>: <br>\n",
    "    How many tracts have fewer neighbors under rook contiguity relative to knn4?\n",
    "</div>"
   ]
  },
  {
   "cell_type": "markdown",
   "metadata": {},
   "source": [
    "<div class=\"alert alert-success\" style=\"font-size:120%\">\n",
    "<b>Exercise</b>: <br>\n",
    "    How many tracts have identical neighbors under queen contiguity and queen rook contiguity?\n",
    "</div>"
   ]
  },
  {
   "cell_type": "code",
   "execution_count": null,
   "metadata": {
    "execution": {
     "iopub.status.busy": "2023-10-06T23:14:04.430367Z",
     "iopub.status.idle": "2023-10-06T23:14:04.430502Z",
     "shell.execute_reply": "2023-10-06T23:14:04.430437Z",
     "shell.execute_reply.started": "2023-10-06T23:14:04.430432Z"
    }
   },
   "outputs": [],
   "source": [
    "# %load solutions/02.py"
   ]
  },
  {
   "cell_type": "markdown",
   "metadata": {},
   "source": [
    "---\n",
    "\n",
    "<a rel=\"license\" href=\"http://creativecommons.org/licenses/by-nc-\n",
    "sa/4.0/\"><img alt=\"Creative Commons License\" style=\"border-width:0\"\n",
    "src=\"https://i.creativecommons.org/l/by-nc-sa/4.0/88x31.png\" /></a><br /><span\n",
    "xmlns:dct=\"http://purl.org/dc/terms/\" property=\"dct:title\">Spatial Weights</span> by <a xmlns:cc=\"http://creativecommons.org/ns#\"\n",
    "href=\"http://sergerey.org\" property=\"cc:attributionName\"\n",
    "rel=\"cc:attributionURL\">Serge Rey</a> is licensed under a <a\n",
    "rel=\"license\" href=\"http://creativecommons.org/licenses/by-nc-sa/4.0/\">Creative\n",
    "Commons Attribution-NonCommercial-ShareAlike 4.0 International License</a>."
   ]
  }
 ],
 "metadata": {
  "anaconda-cloud": {},
  "jupytext": {
   "formats": "ipynb,md"
  },
  "kernelspec": {
   "display_name": "Python [conda env:pysal-workshop]",
   "language": "python",
   "name": "conda-env-pysal-workshop-py"
  },
  "language_info": {
   "codemirror_mode": {
    "name": "ipython",
    "version": 3
   },
   "file_extension": ".py",
   "mimetype": "text/x-python",
   "name": "python",
   "nbconvert_exporter": "python",
   "pygments_lexer": "ipython3",
   "version": "3.9.13"
  },
  "widgets": {
   "application/vnd.jupyter.widget-state+json": {
    "state": {},
    "version_major": 2,
    "version_minor": 0
   }
  }
 },
 "nbformat": 4,
 "nbformat_minor": 4
}
